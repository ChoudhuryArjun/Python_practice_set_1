{
 "cells": [
  {
   "cell_type": "markdown",
   "id": "5a5a257c-0e13-414f-badb-dee1e6b7b874",
   "metadata": {},
   "source": [
    "Q1. Write a Python program that defines a function called \"add_numbers\" that takes two arguments (i.e.,\n",
    "numbers) and returns their sum. Within the function, add the two numbers together and return the result\n",
    "using the return statement. Call the function with the values 5 and 6, and print out the returned result.\n",
    "This will result in the addition of 5 and 6, with the output of the program being the sum of these two\n",
    "numbers."
   ]
  },
  {
   "cell_type": "code",
   "execution_count": 14,
   "id": "34837b47-0636-47a3-b126-e9bf4a215f25",
   "metadata": {},
   "outputs": [],
   "source": [
    "def add_numbers(a,b):\n",
    "    #a = int(input(\"Enter the value of a: \"))\n",
    "    #b = int(input(\"Enter the value of b: \"))\n",
    "    c = a+b\n",
    "    return c "
   ]
  },
  {
   "cell_type": "code",
   "execution_count": 15,
   "id": "b50c487d-9438-4c0c-89f9-59fbd1a79c14",
   "metadata": {},
   "outputs": [
    {
     "name": "stdout",
     "output_type": "stream",
     "text": [
      "Tha addition of a and b is 11\n"
     ]
    }
   ],
   "source": [
    "result = add_numbers(5,6)\n",
    "print(\"Tha addition of a and b is\", result)"
   ]
  },
  {
   "cell_type": "markdown",
   "id": "9a81bb4a-a40b-4fe2-ba52-d058729801b6",
   "metadata": {},
   "source": [
    "Q2. Write a Python program that calculates the square root of a given number using a built-in function.\n",
    "Specifically, the program should take an integer or float input from the user, calculate its square root\n",
    "using the 'sqrt()' function from the 'math' module, and print out the result to the user. As an example,\n",
    "calculate the square root of the number 625 using this program, which should output the value of 25."
   ]
  },
  {
   "cell_type": "code",
   "execution_count": 25,
   "id": "2e270c2b-3eae-4381-b06a-b27501626e67",
   "metadata": {},
   "outputs": [
    {
     "name": "stdin",
     "output_type": "stream",
     "text": [
      "Enter the value here:  4\n"
     ]
    },
    {
     "name": "stdout",
     "output_type": "stream",
     "text": [
      "The square root value is 2.0\n"
     ]
    }
   ],
   "source": [
    "import math\n",
    "\n",
    "Num = float(input(\"Enter the value here: \"))\n",
    "value = math.sqrt(Num)\n",
    "print(\"The square root value is\",value)"
   ]
  },
  {
   "cell_type": "markdown",
   "id": "64174ebd-a17f-4043-abf1-22ccfaeab7a3",
   "metadata": {},
   "source": [
    "Q3.Write a program that prints all prime numbers between 0 to 50."
   ]
  },
  {
   "cell_type": "code",
   "execution_count": 31,
   "id": "59d122e3-5eb3-4371-899e-fd6d6edbe81e",
   "metadata": {},
   "outputs": [],
   "source": [
    "def is_prime(number):\n",
    "    if number < 2:\n",
    "        return False\n",
    "    else:\n",
    "        for i in range(2,number):\n",
    "            if number % i == 0:\n",
    "                return False\n",
    "            else:\n",
    "                return True"
   ]
  },
  {
   "cell_type": "code",
   "execution_count": 32,
   "id": "5cf568f7-c469-4dfd-90d9-98dfdd48cc4f",
   "metadata": {},
   "outputs": [
    {
     "name": "stdout",
     "output_type": "stream",
     "text": [
      "Here id the list of prime numbers between 0 to 50\n",
      "3\n",
      "5\n",
      "7\n",
      "9\n",
      "11\n",
      "13\n",
      "15\n",
      "17\n",
      "19\n",
      "21\n",
      "23\n",
      "25\n",
      "27\n",
      "29\n",
      "31\n",
      "33\n",
      "35\n",
      "37\n",
      "39\n",
      "41\n",
      "43\n",
      "45\n",
      "47\n",
      "49\n"
     ]
    }
   ],
   "source": [
    "print(\"Here id the list of prime numbers between 0 to 50\")\n",
    "\n",
    "for i in range(51):\n",
    "    if is_prime(i):\n",
    "        True\n",
    "        print(i)"
   ]
  },
  {
   "cell_type": "markdown",
   "id": "51bd5f92-81bf-4a32-946d-4aae14c9d5a4",
   "metadata": {},
   "source": [
    "Q4.How can we swap the values of three variables (let's say a, b, and c) without using a fourth variable?\n",
    "For example, if we have a=5, b=8, and c=9, how can we obtain a=9, b=5, and c=8? The challenge is to\n",
    "perform this operation without using an additional variable to store any of the values during the\n",
    "swapping process."
   ]
  },
  {
   "cell_type": "code",
   "execution_count": 5,
   "id": "dbce5097-0eee-4364-8746-34646640dcfa",
   "metadata": {},
   "outputs": [
    {
     "name": "stdout",
     "output_type": "stream",
     "text": [
      "10\n",
      "8\n",
      "8\n",
      "10\n"
     ]
    }
   ],
   "source": [
    "a=10\n",
    "b=8\n",
    "\n",
    "#Before swapping\n",
    "print(a)\n",
    "print(b)\n",
    "\n",
    "# After swapping\n",
    "a,b = b,a\n",
    "\n",
    "print(a)\n",
    "print(b)"
   ]
  },
  {
   "cell_type": "markdown",
   "id": "a806f286-af52-4b9a-9542-c2300f799462",
   "metadata": {},
   "source": [
    "Q5. Can you write a program that determines the nature of a given number (in this case, 87) as being\n",
    "positive, negative, or zero? The program should be designed to take the number as input and perform the\n",
    "necessary calculations to determine if the number is positive (i.e., greater than zero), negative (i.e., less\n",
    "than zero), or zero (i.e., equal to zero). The output of the program should indicate which of these three\n",
    "categories the given number falls into."
   ]
  },
  {
   "cell_type": "code",
   "execution_count": 7,
   "id": "82e0bb44-15dc-446f-bac9-dcf567447bb6",
   "metadata": {},
   "outputs": [
    {
     "name": "stdin",
     "output_type": "stream",
     "text": [
      "Enter your number:  -123\n"
     ]
    },
    {
     "name": "stdout",
     "output_type": "stream",
     "text": [
      "It's a Negative number\n"
     ]
    }
   ],
   "source": [
    "Number = int(input(\"Enter your number: \"))\n",
    "\n",
    "if(Number<0):\n",
    "    print(\"It's a Negative number\")\n",
    "elif(Number==0):\n",
    "    print(\"Zero\")\n",
    "else:\n",
    "    print(\"it's a positive number\")"
   ]
  },
  {
   "cell_type": "markdown",
   "id": "527c29e5-cd14-4387-8996-fe2a06c9ed27",
   "metadata": {},
   "source": [
    "Q6. How can you create a program that determines whether a given number (in this case, 98) is even or\n",
    "odd? The program should be designed to take the number as input and perform the necessary\n",
    "calculations to determine whether it is divisible by two. If the number is divisible by two without leaving a\n",
    "remainder, it is an even number, and if there is a remainder, it is an odd number. The output of the\n",
    "program should indicate whether the given number is even or odd."
   ]
  },
  {
   "cell_type": "code",
   "execution_count": 9,
   "id": "d492cab4-e611-427c-89d0-d261beff1c40",
   "metadata": {},
   "outputs": [
    {
     "name": "stdin",
     "output_type": "stream",
     "text": [
      "Enter your number:  10\n"
     ]
    },
    {
     "name": "stdout",
     "output_type": "stream",
     "text": [
      "It's a Even number\n"
     ]
    }
   ],
   "source": [
    "Number = int(input(\"Enter your number: \"))\n",
    "\n",
    "if(Number%2==0):\n",
    "    print(\"It's a Even number\")\n",
    "else:\n",
    "    print(\"It's a Odd number\")"
   ]
  },
  {
   "cell_type": "markdown",
   "id": "224b9762-242e-40f9-99c1-8646c877367f",
   "metadata": {},
   "source": [
    "Q7.Write a program for sum of digits.the digits are 76543 and the output should be 25."
   ]
  },
  {
   "cell_type": "code",
   "execution_count": null,
   "id": "215d23d2-20ca-496b-bf18-8edad8dec7ab",
   "metadata": {},
   "outputs": [],
   "source": [
    "Number = int(input(\"Enter your number: \"))\n",
    "\n",
    "sum_of_digit = 0\n",
    "\n",
    "while Number > 0:\n",
    "    \n",
    "    digit = Number%10\n",
    "    \n",
    "    sum_of_digit += digit\n",
    "    \n",
    "    Number //= 10\n",
    "\n",
    "print(sum_of_digit)"
   ]
  },
  {
   "cell_type": "markdown",
   "id": "f500ed28-a4b3-4aba-bde8-80791b7fa703",
   "metadata": {},
   "source": [
    " Q8.Write a program for reversing the given number 5436 and the output should be 6345."
   ]
  },
  {
   "cell_type": "code",
   "execution_count": 1,
   "id": "84810641-def7-4e34-ae6a-6e20f3d62b2c",
   "metadata": {},
   "outputs": [
    {
     "name": "stdout",
     "output_type": "stream",
     "text": [
      "6345\n"
     ]
    }
   ],
   "source": [
    "Number = \"5436\"\n",
    "\n",
    "print(int(Number[4::-1]))"
   ]
  },
  {
   "cell_type": "markdown",
   "id": "cdd5f1db-1e69-48ee-b601-726b8a778f08",
   "metadata": {},
   "source": [
    "Q9.Write a program to check if a given number 371 is an Armstrong number?"
   ]
  },
  {
   "cell_type": "code",
   "execution_count": 5,
   "id": "d1a3e0a0-f225-43db-b3f7-c375c95dfab7",
   "metadata": {},
   "outputs": [
    {
     "name": "stdin",
     "output_type": "stream",
     "text": [
      "Enter your number:  371\n"
     ]
    },
    {
     "name": "stdout",
     "output_type": "stream",
     "text": [
      "It's a Armstrong number\n"
     ]
    }
   ],
   "source": [
    "Number = input(\"Enter your number: \")\n",
    "\n",
    "Armstrong_num = 0\n",
    "\n",
    "Length = len(Number)\n",
    "\n",
    "Numberr = int(Number)\n",
    "Numberr_2 = Numberr\n",
    "while Numberr>0:\n",
    "    digit = Numberr%10\n",
    "    Armstrong_num += digit ** Length\n",
    "    Numberr //= 10\n",
    "\n",
    "# print(Armstrong_num)    \n",
    "if(Numberr_2 == Armstrong_num):\n",
    "    print(\"It's a Armstrong number\")\n",
    "else:\n",
    "    print(\"No it's not a Armstrong number\")"
   ]
  },
  {
   "cell_type": "markdown",
   "id": "172abccf-e007-4095-a89d-c870cf7f610f",
   "metadata": {},
   "source": [
    "Q10.Write a program the given year is 1996, a leap year."
   ]
  },
  {
   "cell_type": "code",
   "execution_count": 1,
   "id": "5bf03f8e-cffc-461d-8262-4ea1c4ce7294",
   "metadata": {},
   "outputs": [
    {
     "name": "stdin",
     "output_type": "stream",
     "text": [
      "Enter the year 1996\n"
     ]
    },
    {
     "name": "stdout",
     "output_type": "stream",
     "text": [
      "This is a leap year\n"
     ]
    }
   ],
   "source": [
    "year = int(input(\"Enter the year\"))\n",
    "\n",
    "if(year% 4 == 0):\n",
    "    if(year%100 ==0 ):\n",
    "        if(year%400 == 0):\n",
    "            print(\"This is a leap year\")\n",
    "        else:\n",
    "            print(\"This is nott a leap year\")\n",
    "    else:\n",
    "        print(\"This is a leap year\")\n",
    "else:\n",
    "    print(\"This is not a leap year\")\n"
   ]
  },
  {
   "cell_type": "code",
   "execution_count": null,
   "id": "15e22895-7093-41d4-847e-9104b4ac1521",
   "metadata": {},
   "outputs": [],
   "source": []
  }
 ],
 "metadata": {
  "kernelspec": {
   "display_name": "Python 3 (ipykernel)",
   "language": "python",
   "name": "python3"
  },
  "language_info": {
   "codemirror_mode": {
    "name": "ipython",
    "version": 3
   },
   "file_extension": ".py",
   "mimetype": "text/x-python",
   "name": "python",
   "nbconvert_exporter": "python",
   "pygments_lexer": "ipython3",
   "version": "3.10.8"
  }
 },
 "nbformat": 4,
 "nbformat_minor": 5
}
